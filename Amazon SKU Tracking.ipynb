{
 "cells": [
  {
   "cell_type": "markdown",
   "metadata": {},
   "source": [
    "# Amazon SKU Tracker"
   ]
  },
  {
   "cell_type": "code",
   "execution_count": null,
   "metadata": {},
   "outputs": [],
   "source": [
    "import pandas as pd\n",
    "from selenium import webdriver\n",
    "import warnings\n",
    "warnings.filterwarnings(\"ignore\")\n",
    "from time import sleep\n",
    "from selenium.common.exceptions import NoSuchElementException\n",
    "from datetime import datetime\n",
    "from selenium.webdriver.chrome.options import Options"
   ]
  },
  {
   "cell_type": "code",
   "execution_count": null,
   "metadata": {},
   "outputs": [],
   "source": [
    "pincodes = pd.read_excel(\"asin-pin.xlsx\",sheet_name = \"pincodes\")\n",
    "asin = pd.read_excel(\"asin-pin.xlsx\",sheet_name = \"asin\")"
   ]
  },
  {
   "cell_type": "code",
   "execution_count": null,
   "metadata": {},
   "outputs": [],
   "source": [
    "asin = asin[:10]"
   ]
  },
  {
   "cell_type": "code",
   "execution_count": null,
   "metadata": {},
   "outputs": [],
   "source": [
    "a = pincodes.copy()\n",
    "for i in range(len(asin)-1):\n",
    "     a = pd.concat([a,pincodes])\n",
    "\n",
    "b = asin.copy()\n",
    "for i in range(len(pincodes)-1):\n",
    "    b = pd.concat([b,asin])"
   ]
  },
  {
   "cell_type": "code",
   "execution_count": null,
   "metadata": {},
   "outputs": [],
   "source": [
    "b.sort_index(inplace=True)\n",
    "a[\"ASIN\"] = list(b[\"ASIN\"])"
   ]
  },
  {
   "cell_type": "code",
   "execution_count": null,
   "metadata": {},
   "outputs": [],
   "source": [
    "a"
   ]
  },
  {
   "cell_type": "code",
   "execution_count": null,
   "metadata": {},
   "outputs": [],
   "source": [
    "pincode = list(a[\"Pincode\"])\n",
    "asin = list(a[\"ASIN\"])\n",
    "city = list(a[\"City\"])"
   ]
  },
  {
   "cell_type": "code",
   "execution_count": null,
   "metadata": {},
   "outputs": [],
   "source": [
    "path = r\"C:\\Users\\Sanchit\\Downloads\\chromedriver.exe\"\n",
    "options = Options()\n",
    "options.add_argument('--headless')\n",
    "options.add_argument('--disable-gpu')  \n",
    "options.add_argument('--no-sandbox')\n",
    "options.add_argument('window-size=1920x1080')"
   ]
  },
  {
   "cell_type": "code",
   "execution_count": null,
   "metadata": {},
   "outputs": [],
   "source": [
    "count = 0\n",
    "df = {\"Date\":[],\"Pincode\":[],\"City\":[],\"ASIN\":[],\"Selling Price\":[],\"Availability\":[],\"Star Rating\":[],\n",
    "      \"Seller\":[],\"Delivery\":[],\"No. of Ratings\":[],\"No. of Reviews\":[]}"
   ]
  },
  {
   "cell_type": "code",
   "execution_count": null,
   "metadata": {
    "scrolled": true
   },
   "outputs": [],
   "source": [
    "for i in range(154,len(asin)):\n",
    "    browser = webdriver.Chrome(executable_path=path, chrome_options = options)\n",
    "    browser.get(\"https://www.amazon.in//dp/\"+asin[i])\n",
    "    \n",
    "    pincode_button = browser.find_element_by_id('glow-ingress-line2')\n",
    "    pincode_button.click()\n",
    "    sleep(3)\n",
    "    pincode_key = browser.find_element_by_id('GLUXZipUpdateInput')\n",
    "    pincode_key.send_keys(pincode[i])\n",
    "    pincode_apply = browser.find_element_by_id('GLUXZipUpdate')\n",
    "    pincode_apply.click()\n",
    "    sleep(3)\n",
    "        \n",
    "    if browser.find_element_by_id('availability').text != 'Currently Unavailable.':\n",
    "        \n",
    "        \n",
    "        try : \n",
    "            price = browser.find_element_by_id(\"priceblock_ourprice\").text\n",
    "            price = price.replace('₹','')\n",
    "            price = float(price)\n",
    "            df[\"Selling Price\"].append(price)\n",
    "       \n",
    "        except NoSuchElementException:\n",
    "            try:\n",
    "                price = browser.find_element_by_id(\"priceblock_dealprice\").text\n",
    "                price = price.replace('₹','')\n",
    "                price = float(price)\n",
    "                df[\"Selling Price\"].append(price)\n",
    "                \n",
    "            except NoSuchElementException:\n",
    "                try:\n",
    "                    price = browser.find_element_by_xpath(\"//*[@id='corePrice_feature_div']/div/span[1]/span[2]\").text\n",
    "                    price = price.replace('₹','')\n",
    "                    price = price.replace('\\n00','')\n",
    "                    price = float(price)\n",
    "                    df[\"Selling Price\"].append(price)\n",
    "                \n",
    "                except NoSuchElementException:\n",
    "                    price = browser.find_element_by_xpath('//*[@id=\"corePrice_feature_div\"]/div/span[1]/span[2]/span[2]').text\n",
    "                    price = price.replace('₹','')\n",
    "                    price = float(price)\n",
    "                    df[\"Selling Price\"].append(price)\n",
    "\n",
    "        stars = browser.find_element_by_id('acrPopover').get_attribute('title')\n",
    "        stars = stars[:3]\n",
    "        stars = float(stars)\n",
    "        df[\"Star Rating\"].append(stars)\n",
    "\n",
    "        sell = browser.find_element_by_xpath('//*[@id=\"merchant-info\"]/a[1]/span').text\n",
    "        df[\"Seller\"].append(sell)\n",
    "        \n",
    "        try:\n",
    "            delivery_time =  browser.find_element_by_xpath('//*[@id=\"mir-layout-DELIVERY_BLOCK-slot-DELIVERY_MESSAGE\"]/b').text\n",
    "            df[\"Delivery\"].append(delivery_time)\n",
    "        except NoSuchElementException:\n",
    "            df[\"Delivery\"].append(\"NA\")\n",
    "\n",
    "        reviews_button = browser.find_element_by_xpath('//a[@data-hook=\"see-all-reviews-link-foot\"]')\n",
    "        sleep(1)\n",
    "        reviews_button.click()\n",
    "        sleep(1)\n",
    "\n",
    "        no_review_ratings = browser.find_element_by_xpath('//div[@data-hook=\"cr-filter-info-review-rating-count\"]').text\n",
    "        x = no_review_ratings.split(' | ')\n",
    "        a = x[0]\n",
    "        a = a.replace(\" global ratings\",'')\n",
    "        a = a.replace(\" total ratings\",'')\n",
    "        a = a.replace(',','')\n",
    "        try:\n",
    "            a = int(a)\n",
    "            df[\"No. of Ratings\"].append(a)\n",
    "            b = x[1]\n",
    "            b = b.replace(\" global reviews\",'')\n",
    "            b = b.replace(\" with reviews\",'')\n",
    "            b = b.replace(',','')\n",
    "            b = int(b)\n",
    "            df['No. of Reviews'].append(b)\n",
    "        except ValueError:\n",
    "            z = a.split(' ')\n",
    "            df[\"No. of Ratings\"].append(int(z[0]))\n",
    "            df[\"No. of Reviews\"].append(int(z[1]))\n",
    "            \n",
    "        df[\"Availability\"].append('In Stock.')\n",
    "\n",
    "       \n",
    "        \n",
    "    else:\n",
    "        df[\"Availability\"].append('Out of Stock.')\n",
    "        df[\"Selling Price\"].append(\"NA\")\n",
    "        df[\"Star Rating\"].append(\"NA\")\n",
    "        df[\"Seller\"].append(\"NA\")\n",
    "        df[\"Delivery\"].append(\"NA\")\n",
    "        df[\"Fastest Delivery By\"].append(\"NA\")\n",
    "        df[\"No. of Ratings\"].append(\"NA\")\n",
    "        df[\"No. of Reviews\"].append(\"NA\")\n",
    "    \n",
    "    df[\"ASIN\"].append(asin[i])\n",
    "    df[\"Pincode\"].append(pincode[i])\n",
    "    df[\"City\"].append(city[i])\n",
    "    \n",
    "    now = datetime.now()\n",
    "    df[\"Date\"].append(now)\n",
    "    \n",
    "    count+=1\n",
    "    print(count)\n",
    "    browser.close()"
   ]
  },
  {
   "cell_type": "code",
   "execution_count": null,
   "metadata": {},
   "outputs": [],
   "source": [
    "for i in df.keys():\n",
    "    print(i)\n",
    "    print(len(df[i]))"
   ]
  },
  {
   "cell_type": "code",
   "execution_count": null,
   "metadata": {},
   "outputs": [],
   "source": [
    "# df[\"Availability\"].pop(267)\n",
    "# df[\"Selling Price\"].pop(267)\n",
    "# df[\"Star Rating\"].pop(267)\n",
    "# df[\"Delivery\"].pop(267)\n",
    "# df[\"Seller\"].pop(267)"
   ]
  },
  {
   "cell_type": "code",
   "execution_count": null,
   "metadata": {},
   "outputs": [],
   "source": [
    "required = pd.DataFrame(df)"
   ]
  },
  {
   "cell_type": "code",
   "execution_count": null,
   "metadata": {
    "scrolled": true
   },
   "outputs": [],
   "source": [
    "required"
   ]
  },
  {
   "cell_type": "code",
   "execution_count": null,
   "metadata": {},
   "outputs": [],
   "source": [
    "required[\"Seller\"].unique()"
   ]
  },
  {
   "cell_type": "code",
   "execution_count": null,
   "metadata": {},
   "outputs": [],
   "source": [
    "required[\"Seller\"].replace({'':'Yogabars'},inplace=True)"
   ]
  },
  {
   "cell_type": "code",
   "execution_count": null,
   "metadata": {},
   "outputs": [],
   "source": [
    "required['Delivery'].unique()"
   ]
  },
  {
   "cell_type": "code",
   "execution_count": null,
   "metadata": {},
   "outputs": [],
   "source": [
    "required['Delivery'].replace({'':'NA'},inplace=True)"
   ]
  },
  {
   "cell_type": "code",
   "execution_count": null,
   "metadata": {},
   "outputs": [],
   "source": [
    "required.to_excel('amz_fin_sheet1.xlsx')"
   ]
  },
  {
   "cell_type": "code",
   "execution_count": null,
   "metadata": {},
   "outputs": [],
   "source": []
  },
  {
   "cell_type": "code",
   "execution_count": null,
   "metadata": {},
   "outputs": [],
   "source": []
  },
  {
   "cell_type": "code",
   "execution_count": null,
   "metadata": {},
   "outputs": [],
   "source": []
  },
  {
   "cell_type": "code",
   "execution_count": null,
   "metadata": {},
   "outputs": [],
   "source": []
  }
 ],
 "metadata": {
  "kernelspec": {
   "display_name": "Python 3 (ipykernel)",
   "language": "python",
   "name": "python3"
  },
  "language_info": {
   "codemirror_mode": {
    "name": "ipython",
    "version": 3
   },
   "file_extension": ".py",
   "mimetype": "text/x-python",
   "name": "python",
   "nbconvert_exporter": "python",
   "pygments_lexer": "ipython3",
   "version": "3.11.4"
  }
 },
 "nbformat": 4,
 "nbformat_minor": 4
}
